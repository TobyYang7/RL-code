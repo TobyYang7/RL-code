{
 "cells": [
  {
   "cell_type": "code",
   "execution_count": 1,
   "metadata": {},
   "outputs": [],
   "source": [
    "import baseline_methods as bm\n",
    "import numpy as np\n",
    "import pandas as pd\n",
    "%load_ext autoreload\n",
    "%autoreload 2"
   ]
  },
  {
   "cell_type": "code",
   "execution_count": 2,
   "metadata": {},
   "outputs": [
    {
     "name": "stdout",
     "output_type": "stream",
     "text": [
      "(70, 78912, 2)\n",
      "(70, 78912)\n"
     ]
    }
   ],
   "source": [
    "us_delay = np.load('./udata/udelay.npy')\n",
    "print(us_delay.shape)\n",
    "# Shape(N, T, F)\n",
    "\n",
    "# us_delay_1 arrival delay\n",
    "us_delay_1 = us_delay[:, :, 0]\n",
    "# us_delay_1 departure delay\n",
    "us_delay_2 = us_delay[:, :, 1]\n",
    "\n",
    "print(us_delay_1.shape)"
   ]
  },
  {
   "cell_type": "markdown",
   "metadata": {},
   "source": [
    "# HA\n"
   ]
  },
  {
   "cell_type": "code",
   "execution_count": 3,
   "metadata": {},
   "outputs": [
    {
     "name": "stdout",
     "output_type": "stream",
     "text": [
      "The test error for arrival prediction delay using HA is (9.089, 11.847, 1.149)\n",
      "The test error for delay prediction delay using HA is (6.519, 8.631, 1.284)\n"
     ]
    },
    {
     "name": "stderr",
     "output_type": "stream",
     "text": [
      "/Users/yuzheyang/Library/Mobile Documents/3L68KQB4HG~com~readdle~CommonDocuments/Documents/CUHKSZ/Research Learning/RL-code/baseline_v3/baseline_methods.py:86: RuntimeWarning: Mean of empty slice.\n",
      "  :][~np.isnan(historical[k, :])].mean()\n",
      "/Users/yuzheyang/anaconda3/envs/torch_env/lib/python3.11/site-packages/numpy/core/_methods.py:129: RuntimeWarning: invalid value encountered in scalar divide\n",
      "  ret = ret.dtype.type(ret / rcount)\n"
     ]
    }
   ],
   "source": [
    "# y_predict, y_test = bm.historical_average_predict(\n",
    "#     cn_delay_1, period=2*18, test_ratio=0.2)\n",
    "# ha_a_mae, ha_a_rmse, ha_a_mape = bm.test_error(y_predict, y_test)\n",
    "# y_predict, y_test = bm.historical_average_predict(\n",
    "#     cn_delay_2, period=2*18, test_ratio=0.2)\n",
    "\n",
    "y_predict, y_test = bm.historical_average_predict(\n",
    "    us_delay_1, period=2*18, test_ratio=0.2)\n",
    "ha_a_mae, ha_a_rmse, ha_a_mape = bm.test_error(y_predict, y_test)\n",
    "y_predict, y_test = bm.historical_average_predict(\n",
    "    us_delay_2, period=2*18, test_ratio=0.2)\n",
    "ha_d_mae, ha_d_rmse, ha_d_mape = bm.test_error(y_predict, y_test)\n",
    "print(\n",
    "    f\"The test error for arrival prediction delay using HA is {round(ha_a_mae,3), round(ha_a_rmse,3), round(ha_a_mape,3)}\")\n",
    "print(\n",
    "    f\"The test error for delay prediction delay using HA is {round(ha_d_mae,3), round(ha_d_rmse,3), round(ha_d_mape,3)}\")"
   ]
  },
  {
   "cell_type": "markdown",
   "metadata": {},
   "source": [
    "# VAR\n"
   ]
  },
  {
   "cell_type": "code",
   "execution_count": 4,
   "metadata": {},
   "outputs": [],
   "source": [
    "time = [2, 5, 11]"
   ]
  },
  {
   "cell_type": "code",
   "execution_count": 5,
   "metadata": {},
   "outputs": [
    {
     "name": "stdout",
     "output_type": "stream",
     "text": [
      "Error of VAR in 3-step arrival: (7.795, 10.468, 1.211)\n",
      "Error of VAR in 6-step arrival: (8.123, 10.824, 1.224)\n",
      "Error of VAR in 12-step arrival: (8.479, 11.237, 1.216)\n",
      "Error of VAR in 3-step departure: (5.561, 7.656, 1.129)\n",
      "Error of VAR in 6-step departure: (5.817, 7.925, 1.14)\n",
      "Error of VAR in 12-step departure: (6.165, 8.304, 1.129)\n"
     ]
    }
   ],
   "source": [
    "# y_predict_a, y_test_a = bm.var_predict(cn_delay_1, test_ratio=0.2)\n",
    "# y_predict_d, y_test_d = bm.var_predict(cn_delay_2, test_ratio=0.2)\n",
    "y_predict_a, y_test_a = bm.var_predict(us_delay_1, test_ratio=0.2)\n",
    "y_predict_d, y_test_d = bm.var_predict(us_delay_2, test_ratio=0.2)\n",
    "var_a_mae = []\n",
    "var_a_rmse = []\n",
    "var_a_mape = []\n",
    "var_d_mae = []\n",
    "var_d_rmse = []\n",
    "var_d_mape = []\n",
    "for i in time:\n",
    "    a, b, c = bm.test_error(y_predict_a[i, :, :].T, y_test_a)\n",
    "    var_a_mae.append(round(a, 3))\n",
    "    var_a_rmse.append(round(b, 3))\n",
    "    var_a_mape.append(round(c, 3))\n",
    "    a, b, c = bm.test_error(y_predict_d[i, :, :].T, y_test_d)\n",
    "    var_d_mae.append(round(a, 3))\n",
    "    var_d_rmse.append(round(b, 3))\n",
    "    var_d_mape.append(round(c, 3))\n",
    "\n",
    "for i, x in enumerate(zip(var_a_mae, var_a_rmse, var_a_mape)):\n",
    "    print(f\"Error of VAR in {time[i]+1}-step arrival: {x}\")\n",
    "\n",
    "for i, x in enumerate(zip(var_d_mae, var_d_rmse, var_d_mape)):\n",
    "    print(f\"Error of VAR in {time[i]+1}-step departure: {x}\")"
   ]
  },
  {
   "cell_type": "markdown",
   "metadata": {},
   "source": [
    "# ARIMA\n"
   ]
  },
  {
   "cell_type": "code",
   "execution_count": 6,
   "metadata": {},
   "outputs": [
    {
     "ename": "KeyboardInterrupt",
     "evalue": "",
     "output_type": "error",
     "traceback": [
      "\u001b[0;31m---------------------------------------------------------------------------\u001b[0m",
      "\u001b[0;31mKeyboardInterrupt\u001b[0m                         Traceback (most recent call last)",
      "Cell \u001b[0;32mIn[6], line 4\u001b[0m\n\u001b[1;32m      1\u001b[0m \u001b[38;5;66;03m# y_predict_a, y_test_a = bm.arima_predict(cn_delay_1, test_ratio=0.02)\u001b[39;00m\n\u001b[1;32m      2\u001b[0m \u001b[38;5;66;03m# y_predict_d, y_test_d = bm.arima_predict(cn_delay_2, test_ratio=0.02)\u001b[39;00m\n\u001b[0;32m----> 4\u001b[0m y_predict_a, y_test_a \u001b[38;5;241m=\u001b[39m \u001b[43mbm\u001b[49m\u001b[38;5;241;43m.\u001b[39;49m\u001b[43marima_predict\u001b[49m\u001b[43m(\u001b[49m\u001b[43mus_delay_1\u001b[49m\u001b[43m,\u001b[49m\u001b[43m \u001b[49m\u001b[43mtest_ratio\u001b[49m\u001b[38;5;241;43m=\u001b[39;49m\u001b[38;5;241;43m0.02\u001b[39;49m\u001b[43m)\u001b[49m\n\u001b[1;32m      5\u001b[0m y_predict_d, y_test_d \u001b[38;5;241m=\u001b[39m bm\u001b[38;5;241m.\u001b[39marima_predict(us_delay_2, test_ratio\u001b[38;5;241m=\u001b[39m\u001b[38;5;241m0.02\u001b[39m)\n",
      "File \u001b[0;32m~/Library/Mobile Documents/3L68KQB4HG~com~readdle~CommonDocuments/Documents/CUHKSZ/Research Learning/RL-code/baseline_v3/baseline_methods.py:162\u001b[0m, in \u001b[0;36marima_predict\u001b[0;34m(np_, n_forwards, order, test_ratio)\u001b[0m\n\u001b[1;32m    159\u001b[0m inputs \u001b[38;5;241m=\u001b[39m scaler\u001b[38;5;241m.\u001b[39mtransform(\n\u001b[1;32m    160\u001b[0m     np_[r, input_ind: input_ind \u001b[38;5;241m+\u001b[39m \u001b[38;5;241m1\u001b[39m]\u001b[38;5;241m.\u001b[39mreshape(\u001b[38;5;241m1\u001b[39m, \u001b[38;5;241m-\u001b[39m\u001b[38;5;241m1\u001b[39m))\n\u001b[1;32m    161\u001b[0m inputs[np\u001b[38;5;241m.\u001b[39misnan(inputs)] \u001b[38;5;241m=\u001b[39m \u001b[38;5;241m0\u001b[39m\n\u001b[0;32m--> 162\u001b[0m prediction \u001b[38;5;241m=\u001b[39m \u001b[43marima_result\u001b[49m\u001b[38;5;241;43m.\u001b[39;49m\u001b[43mget_forecast\u001b[49m\u001b[43m(\u001b[49m\n\u001b[1;32m    163\u001b[0m \u001b[43m    \u001b[49m\u001b[43msteps\u001b[49m\u001b[38;5;241;43m=\u001b[39;49m\u001b[43mn_train\u001b[49m\u001b[43m)\u001b[49m\u001b[38;5;241m.\u001b[39mpredicted_mean[:max_n_forwards]\n\u001b[1;32m    164\u001b[0m \u001b[38;5;28;01mfor\u001b[39;00m i, n_forward \u001b[38;5;129;01min\u001b[39;00m \u001b[38;5;28menumerate\u001b[39m(n_forwards):\n\u001b[1;32m    165\u001b[0m     result_ind \u001b[38;5;241m=\u001b[39m input_ind \u001b[38;5;241m-\u001b[39m n_train \u001b[38;5;241m+\u001b[39m n_forward\n",
      "File \u001b[0;32m~/anaconda3/envs/torch_env/lib/python3.11/site-packages/statsmodels/tsa/statespace/mlemodel.py:3417\u001b[0m, in \u001b[0;36mMLEResults.get_forecast\u001b[0;34m(self, steps, signal_only, **kwargs)\u001b[0m\n\u001b[1;32m   3415\u001b[0m \u001b[38;5;28;01melse\u001b[39;00m:\n\u001b[1;32m   3416\u001b[0m     end \u001b[38;5;241m=\u001b[39m steps\n\u001b[0;32m-> 3417\u001b[0m \u001b[38;5;28;01mreturn\u001b[39;00m \u001b[38;5;28;43mself\u001b[39;49m\u001b[38;5;241;43m.\u001b[39;49m\u001b[43mget_prediction\u001b[49m\u001b[43m(\u001b[49m\u001b[43mstart\u001b[49m\u001b[38;5;241;43m=\u001b[39;49m\u001b[38;5;28;43mself\u001b[39;49m\u001b[38;5;241;43m.\u001b[39;49m\u001b[43mnobs\u001b[49m\u001b[43m,\u001b[49m\u001b[43m \u001b[49m\u001b[43mend\u001b[49m\u001b[38;5;241;43m=\u001b[39;49m\u001b[43mend\u001b[49m\u001b[43m,\u001b[49m\n\u001b[1;32m   3418\u001b[0m \u001b[43m                           \u001b[49m\u001b[43msignal_only\u001b[49m\u001b[38;5;241;43m=\u001b[39;49m\u001b[43msignal_only\u001b[49m\u001b[43m,\u001b[49m\u001b[43m \u001b[49m\u001b[38;5;241;43m*\u001b[39;49m\u001b[38;5;241;43m*\u001b[39;49m\u001b[43mkwargs\u001b[49m\u001b[43m)\u001b[49m\n",
      "File \u001b[0;32m~/anaconda3/envs/torch_env/lib/python3.11/site-packages/statsmodels/tsa/statespace/mlemodel.py:3365\u001b[0m, in \u001b[0;36mMLEResults.get_prediction\u001b[0;34m(self, start, end, dynamic, information_set, signal_only, index, exog, extend_model, extend_kwargs, **kwargs)\u001b[0m\n\u001b[1;32m   3360\u001b[0m \u001b[38;5;28mself\u001b[39m\u001b[38;5;241m.\u001b[39mmodel\u001b[38;5;241m.\u001b[39mupdate(\u001b[38;5;28mself\u001b[39m\u001b[38;5;241m.\u001b[39mparams, transformed\u001b[38;5;241m=\u001b[39m\u001b[38;5;28;01mTrue\u001b[39;00m, includes_fixed\u001b[38;5;241m=\u001b[39m\u001b[38;5;28;01mTrue\u001b[39;00m)\n\u001b[1;32m   3362\u001b[0m \u001b[38;5;66;03m# Perform the prediction\u001b[39;00m\n\u001b[1;32m   3363\u001b[0m \u001b[38;5;66;03m# This is a (k_endog x npredictions) array; do not want to squeeze in\u001b[39;00m\n\u001b[1;32m   3364\u001b[0m \u001b[38;5;66;03m# case of npredictions = 1\u001b[39;00m\n\u001b[0;32m-> 3365\u001b[0m prediction_results \u001b[38;5;241m=\u001b[39m \u001b[38;5;28;43mself\u001b[39;49m\u001b[38;5;241;43m.\u001b[39;49m\u001b[43mfilter_results\u001b[49m\u001b[38;5;241;43m.\u001b[39;49m\u001b[43mpredict\u001b[49m\u001b[43m(\u001b[49m\n\u001b[1;32m   3366\u001b[0m \u001b[43m    \u001b[49m\u001b[43mstart\u001b[49m\u001b[43m,\u001b[49m\u001b[43m \u001b[49m\u001b[43mend\u001b[49m\u001b[43m \u001b[49m\u001b[38;5;241;43m+\u001b[39;49m\u001b[43m \u001b[49m\u001b[43mout_of_sample\u001b[49m\u001b[43m \u001b[49m\u001b[38;5;241;43m+\u001b[39;49m\u001b[43m \u001b[49m\u001b[38;5;241;43m1\u001b[39;49m\u001b[43m,\u001b[49m\u001b[43m \u001b[49m\u001b[43mdynamic\u001b[49m\u001b[43m,\u001b[49m\u001b[43m \u001b[49m\u001b[38;5;241;43m*\u001b[39;49m\u001b[38;5;241;43m*\u001b[39;49m\u001b[43mkwargs\u001b[49m\u001b[43m)\u001b[49m\n\u001b[1;32m   3368\u001b[0m \u001b[38;5;66;03m# Return a new mlemodel.PredictionResults object\u001b[39;00m\n\u001b[1;32m   3369\u001b[0m \u001b[38;5;28;01mreturn\u001b[39;00m PredictionResultsWrapper(PredictionResults(\n\u001b[1;32m   3370\u001b[0m     \u001b[38;5;28mself\u001b[39m, prediction_results, information_set\u001b[38;5;241m=\u001b[39minformation_set,\n\u001b[1;32m   3371\u001b[0m     signal_only\u001b[38;5;241m=\u001b[39msignal_only, row_labels\u001b[38;5;241m=\u001b[39mprediction_index))\n",
      "File \u001b[0;32m~/anaconda3/envs/torch_env/lib/python3.11/site-packages/statsmodels/tsa/statespace/kalman_filter.py:2096\u001b[0m, in \u001b[0;36mFilterResults.predict\u001b[0;34m(self, start, end, dynamic, **kwargs)\u001b[0m\n\u001b[1;32m   2093\u001b[0m         model\u001b[38;5;241m.\u001b[39mendog[:, \u001b[38;5;241m-\u001b[39m(ndynamic \u001b[38;5;241m+\u001b[39m nforecast):] \u001b[38;5;241m=\u001b[39m np\u001b[38;5;241m.\u001b[39mnan\n\u001b[1;32m   2095\u001b[0m     \u001b[38;5;28;01mwith\u001b[39;00m model\u001b[38;5;241m.\u001b[39mfixed_scale(\u001b[38;5;28mself\u001b[39m\u001b[38;5;241m.\u001b[39mscale):\n\u001b[0;32m-> 2096\u001b[0m         oos_results \u001b[38;5;241m=\u001b[39m \u001b[43mmodel\u001b[49m\u001b[38;5;241;43m.\u001b[39;49m\u001b[43mfilter\u001b[49m\u001b[43m(\u001b[49m\u001b[43m)\u001b[49m\n\u001b[1;32m   2098\u001b[0m     results \u001b[38;5;241m=\u001b[39m \u001b[38;5;28mself\u001b[39m\n\u001b[1;32m   2100\u001b[0m \u001b[38;5;28;01mreturn\u001b[39;00m PredictionResults(results, start, end, nstatic, ndynamic,\n\u001b[1;32m   2101\u001b[0m                          nforecast, oos_results\u001b[38;5;241m=\u001b[39moos_results)\n",
      "File \u001b[0;32m~/anaconda3/envs/torch_env/lib/python3.11/site-packages/statsmodels/tsa/statespace/kalman_filter.py:976\u001b[0m, in \u001b[0;36mKalmanFilter.filter\u001b[0;34m(self, filter_method, inversion_method, stability_method, conserve_memory, filter_timing, tolerance, loglikelihood_burn, complex_step)\u001b[0m\n\u001b[1;32m    974\u001b[0m \u001b[38;5;66;03m# Create the results object\u001b[39;00m\n\u001b[1;32m    975\u001b[0m results \u001b[38;5;241m=\u001b[39m \u001b[38;5;28mself\u001b[39m\u001b[38;5;241m.\u001b[39mresults_class(\u001b[38;5;28mself\u001b[39m)\n\u001b[0;32m--> 976\u001b[0m \u001b[43mresults\u001b[49m\u001b[38;5;241;43m.\u001b[39;49m\u001b[43mupdate_representation\u001b[49m\u001b[43m(\u001b[49m\u001b[38;5;28;43mself\u001b[39;49m\u001b[43m)\u001b[49m\n\u001b[1;32m    977\u001b[0m results\u001b[38;5;241m.\u001b[39mupdate_filter(kfilter)\n\u001b[1;32m    979\u001b[0m \u001b[38;5;66;03m# Resent memory conservation\u001b[39;00m\n",
      "File \u001b[0;32m~/anaconda3/envs/torch_env/lib/python3.11/site-packages/statsmodels/tsa/statespace/kalman_smoother.py:593\u001b[0m, in \u001b[0;36mSmootherResults.update_representation\u001b[0;34m(self, model, only_options)\u001b[0m\n\u001b[1;32m    576\u001b[0m \u001b[38;5;28;01mdef\u001b[39;00m \u001b[38;5;21mupdate_representation\u001b[39m(\u001b[38;5;28mself\u001b[39m, model, only_options\u001b[38;5;241m=\u001b[39m\u001b[38;5;28;01mFalse\u001b[39;00m):\n\u001b[1;32m    577\u001b[0m \u001b[38;5;250m    \u001b[39m\u001b[38;5;124;03m\"\"\"\u001b[39;00m\n\u001b[1;32m    578\u001b[0m \u001b[38;5;124;03m    Update the results to match a given model\u001b[39;00m\n\u001b[1;32m    579\u001b[0m \n\u001b[0;32m   (...)\u001b[0m\n\u001b[1;32m    591\u001b[0m \u001b[38;5;124;03m    This method is rarely required except for internal usage.\u001b[39;00m\n\u001b[1;32m    592\u001b[0m \u001b[38;5;124;03m    \"\"\"\u001b[39;00m\n\u001b[0;32m--> 593\u001b[0m     \u001b[38;5;28;43msuper\u001b[39;49m\u001b[43m(\u001b[49m\u001b[43mSmootherResults\u001b[49m\u001b[43m,\u001b[49m\u001b[43m \u001b[49m\u001b[38;5;28;43mself\u001b[39;49m\u001b[43m)\u001b[49m\u001b[38;5;241;43m.\u001b[39;49m\u001b[43mupdate_representation\u001b[49m\u001b[43m(\u001b[49m\u001b[43mmodel\u001b[49m\u001b[43m,\u001b[49m\u001b[43m \u001b[49m\u001b[43monly_options\u001b[49m\u001b[43m)\u001b[49m\n\u001b[1;32m    595\u001b[0m     \u001b[38;5;66;03m# Save the options as boolean variables\u001b[39;00m\n\u001b[1;32m    596\u001b[0m     \u001b[38;5;28;01mfor\u001b[39;00m name \u001b[38;5;129;01min\u001b[39;00m \u001b[38;5;28mself\u001b[39m\u001b[38;5;241m.\u001b[39m_smoother_options:\n",
      "File \u001b[0;32m~/anaconda3/envs/torch_env/lib/python3.11/site-packages/statsmodels/tsa/statespace/kalman_filter.py:1496\u001b[0m, in \u001b[0;36mFilterResults.update_representation\u001b[0;34m(self, model, only_options)\u001b[0m\n\u001b[1;32m   1480\u001b[0m \u001b[38;5;250m\u001b[39m\u001b[38;5;124;03m\"\"\"\u001b[39;00m\n\u001b[1;32m   1481\u001b[0m \u001b[38;5;124;03mUpdate the results to match a given model\u001b[39;00m\n\u001b[1;32m   1482\u001b[0m \n\u001b[0;32m   (...)\u001b[0m\n\u001b[1;32m   1493\u001b[0m \u001b[38;5;124;03mThis method is rarely required except for internal usage.\u001b[39;00m\n\u001b[1;32m   1494\u001b[0m \u001b[38;5;124;03m\"\"\"\u001b[39;00m\n\u001b[1;32m   1495\u001b[0m \u001b[38;5;28;01mif\u001b[39;00m \u001b[38;5;129;01mnot\u001b[39;00m only_options:\n\u001b[0;32m-> 1496\u001b[0m     \u001b[38;5;28;43msuper\u001b[39;49m\u001b[43m(\u001b[49m\u001b[43mFilterResults\u001b[49m\u001b[43m,\u001b[49m\u001b[43m \u001b[49m\u001b[38;5;28;43mself\u001b[39;49m\u001b[43m)\u001b[49m\u001b[38;5;241;43m.\u001b[39;49m\u001b[43mupdate_representation\u001b[49m\u001b[43m(\u001b[49m\u001b[43mmodel\u001b[49m\u001b[43m)\u001b[49m\n\u001b[1;32m   1498\u001b[0m \u001b[38;5;66;03m# Save the options as boolean variables\u001b[39;00m\n\u001b[1;32m   1499\u001b[0m \u001b[38;5;28;01mfor\u001b[39;00m name \u001b[38;5;129;01min\u001b[39;00m \u001b[38;5;28mself\u001b[39m\u001b[38;5;241m.\u001b[39m_filter_options:\n",
      "File \u001b[0;32m~/anaconda3/envs/torch_env/lib/python3.11/site-packages/statsmodels/tsa/statespace/representation.py:1173\u001b[0m, in \u001b[0;36mFrozenRepresentation.update_representation\u001b[0;34m(self, model)\u001b[0m\n\u001b[1;32m   1169\u001b[0m \u001b[38;5;28mself\u001b[39m\u001b[38;5;241m.\u001b[39mstate_cov \u001b[38;5;241m=\u001b[39m model\u001b[38;5;241m.\u001b[39m_state_cov\u001b[38;5;241m.\u001b[39mcopy()\n\u001b[1;32m   1171\u001b[0m \u001b[38;5;28mself\u001b[39m\u001b[38;5;241m.\u001b[39mmissing \u001b[38;5;241m=\u001b[39m np\u001b[38;5;241m.\u001b[39marray(model\u001b[38;5;241m.\u001b[39m_statespaces[\u001b[38;5;28mself\u001b[39m\u001b[38;5;241m.\u001b[39mprefix]\u001b[38;5;241m.\u001b[39mmissing,\n\u001b[1;32m   1172\u001b[0m                         copy\u001b[38;5;241m=\u001b[39m\u001b[38;5;28;01mTrue\u001b[39;00m)\n\u001b[0;32m-> 1173\u001b[0m \u001b[38;5;28mself\u001b[39m\u001b[38;5;241m.\u001b[39mnmissing \u001b[38;5;241m=\u001b[39m np\u001b[38;5;241m.\u001b[39marray(model\u001b[38;5;241m.\u001b[39m_statespaces[\u001b[38;5;28mself\u001b[39m\u001b[38;5;241m.\u001b[39mprefix]\u001b[38;5;241m.\u001b[39mnmissing,\n\u001b[1;32m   1174\u001b[0m                          copy\u001b[38;5;241m=\u001b[39m\u001b[38;5;28;01mTrue\u001b[39;00m)\n\u001b[1;32m   1176\u001b[0m \u001b[38;5;66;03m# Save the final shapes of the matrices\u001b[39;00m\n\u001b[1;32m   1177\u001b[0m \u001b[38;5;28mself\u001b[39m\u001b[38;5;241m.\u001b[39mshapes \u001b[38;5;241m=\u001b[39m \u001b[38;5;28mdict\u001b[39m(model\u001b[38;5;241m.\u001b[39mshapes)\n",
      "\u001b[0;31mKeyboardInterrupt\u001b[0m: "
     ]
    }
   ],
   "source": [
    "# y_predict_a, y_test_a = bm.arima_predict(cn_delay_1, test_ratio=0.02)\n",
    "# y_predict_d, y_test_d = bm.arima_predict(cn_delay_2, test_ratio=0.02)\n",
    "\n",
    "y_predict_a, y_test_a = bm.arima_predict(us_delay_1, test_ratio=0.02)\n",
    "y_predict_d, y_test_d = bm.arima_predict(us_delay_2, test_ratio=0.02)"
   ]
  },
  {
   "cell_type": "code",
   "execution_count": 9,
   "metadata": {},
   "outputs": [
    {
     "name": "stdout",
     "output_type": "stream",
     "text": [
      "0\n",
      "(12, 1578, 70)\n",
      "(70, 1578)\n"
     ]
    }
   ],
   "source": [
    "print(np.sum(np.isnan(y_predict_a)))\n",
    "print(y_predict_a.shape)\n",
    "print(y_test_a.shape)"
   ]
  },
  {
   "cell_type": "code",
   "execution_count": 10,
   "metadata": {},
   "outputs": [
    {
     "name": "stdout",
     "output_type": "stream",
     "text": [
      "Error of ARIMA in 3-step arrival: (10.508, 13.894, 2.436)\n",
      "Error of ARIMA in 6-step arrival: (10.481, 13.863, 2.419)\n",
      "Error of ARIMA in 12-step arrival: (10.599, 14.02, 2.48)\n",
      "Error of ARIMA in 3-step departure: (7.607, 10.549, 1.133)\n",
      "Error of ARIMA in 6-step departure: (7.587, 10.551, 1.123)\n",
      "Error of ARIMA in 12-step departure: (7.653, 10.643, 1.142)\n"
     ]
    }
   ],
   "source": [
    "arima_a_mae = []\n",
    "arima_a_rmse = []\n",
    "arima_a_mape = []\n",
    "arima_d_mae = []\n",
    "arima_d_rmse = []\n",
    "arima_d_mape = []\n",
    "for i in time:\n",
    "    a, b, c = bm.test_error(y_predict_a[i, :, :].T, y_test_a)\n",
    "    arima_a_mae.append(round(a, 3))\n",
    "    arima_a_rmse.append(round(b, 3))\n",
    "    arima_a_mape.append(round(c, 3))\n",
    "    a, b, c = bm.test_error(y_predict_d[i, :, :].T, y_test_d)\n",
    "    arima_d_mae.append(round(a, 3))\n",
    "    arima_d_rmse.append(round(b, 3))\n",
    "    arima_d_mape.append(round(c, 3))\n",
    "\n",
    "for i, x in enumerate(zip(arima_a_mae, arima_a_rmse, arima_a_mape)):\n",
    "    print(f\"Error of ARIMA in {time[i]+1}-step arrival: {x}\")\n",
    "\n",
    "for i, x in enumerate(zip(arima_d_mae, arima_d_rmse, arima_d_mape)):\n",
    "    print(f\"Error of ARIMA in {time[i]+1}-step departure: {x}\")"
   ]
  },
  {
   "cell_type": "markdown",
   "metadata": {},
   "source": [
    "# SVM\n"
   ]
  },
  {
   "cell_type": "code",
   "execution_count": 7,
   "metadata": {},
   "outputs": [
    {
     "name": "stderr",
     "output_type": "stream",
     "text": [
      "  0%|          | 0/70 [00:04<?, ?it/s]\n"
     ]
    },
    {
     "ename": "KeyboardInterrupt",
     "evalue": "",
     "output_type": "error",
     "traceback": [
      "\u001b[0;31m---------------------------------------------------------------------------\u001b[0m",
      "\u001b[0;31mKeyboardInterrupt\u001b[0m                         Traceback (most recent call last)",
      "Cell \u001b[0;32mIn[7], line 3\u001b[0m\n\u001b[1;32m      1\u001b[0m \u001b[38;5;66;03m# y_predict_a, y_test_a = bm.var_predict_svr(cn_delay_1, test_ratio=0.2)\u001b[39;00m\n\u001b[1;32m      2\u001b[0m \u001b[38;5;66;03m# y_predict_d, y_test_d = bm.var_predict_svr(cn_delay_2, test_ratio=0.2)\u001b[39;00m\n\u001b[0;32m----> 3\u001b[0m y_predict_a, y_test_a \u001b[38;5;241m=\u001b[39m \u001b[43mbm\u001b[49m\u001b[38;5;241;43m.\u001b[39;49m\u001b[43mvar_predict_svr\u001b[49m\u001b[43m(\u001b[49m\u001b[43mus_delay_1\u001b[49m\u001b[43m,\u001b[49m\u001b[43m \u001b[49m\u001b[43mtest_ratio\u001b[49m\u001b[38;5;241;43m=\u001b[39;49m\u001b[38;5;241;43m0.2\u001b[39;49m\u001b[43m)\u001b[49m\n\u001b[1;32m      4\u001b[0m y_predict_d, y_test_d \u001b[38;5;241m=\u001b[39m bm\u001b[38;5;241m.\u001b[39mvar_predict_svr(us_delay_2, test_ratio\u001b[38;5;241m=\u001b[39m\u001b[38;5;241m0.2\u001b[39m)\n\u001b[1;32m      5\u001b[0m np\u001b[38;5;241m.\u001b[39msavez(\u001b[38;5;124m\"\u001b[39m\u001b[38;5;124mtmp_svr.npz\u001b[39m\u001b[38;5;124m\"\u001b[39m, y_predict_a\u001b[38;5;241m=\u001b[39my_predict_a, y_test_a\u001b[38;5;241m=\u001b[39my_test_a,\n\u001b[1;32m      6\u001b[0m          y_predict_d\u001b[38;5;241m=\u001b[39my_predict_d, y_test_d\u001b[38;5;241m=\u001b[39my_test_d)\n",
      "File \u001b[0;32m~/Library/Mobile Documents/3L68KQB4HG~com~readdle~CommonDocuments/Documents/CUHKSZ/Research Learning/RL-code/baseline_v3/baseline_methods.py:205\u001b[0m, in \u001b[0;36mvar_predict_svr\u001b[0;34m(np_, out_len, in_len, test_ratio, kernel, C, epsilon)\u001b[0m\n\u001b[1;32m    202\u001b[0m X_train, Y_train \u001b[38;5;241m=\u001b[39m np\u001b[38;5;241m.\u001b[39marray(X_train), np\u001b[38;5;241m.\u001b[39marray(Y_train)\n\u001b[1;32m    203\u001b[0m svr_model \u001b[38;5;241m=\u001b[39m MultiOutputRegressor(\n\u001b[1;32m    204\u001b[0m     SVR(kernel\u001b[38;5;241m=\u001b[39mkernel), n_jobs\u001b[38;5;241m=\u001b[39m\u001b[38;5;241m-\u001b[39m\u001b[38;5;241m1\u001b[39m)  \u001b[38;5;66;03m# todo: cpu\u001b[39;00m\n\u001b[0;32m--> 205\u001b[0m \u001b[43msvr_model\u001b[49m\u001b[38;5;241;43m.\u001b[39;49m\u001b[43mfit\u001b[49m\u001b[43m(\u001b[49m\u001b[43mX_train\u001b[49m\u001b[43m,\u001b[49m\u001b[43m \u001b[49m\u001b[43mY_train\u001b[49m\u001b[43m)\u001b[49m\n\u001b[1;32m    206\u001b[0m \u001b[38;5;66;03m# print(f\"Fit OK in {route}!\")\u001b[39;00m\n\u001b[1;32m    207\u001b[0m X_test, Y_test \u001b[38;5;241m=\u001b[39m [], []\n",
      "File \u001b[0;32m~/anaconda3/envs/torch_env/lib/python3.11/site-packages/sklearn/multioutput.py:216\u001b[0m, in \u001b[0;36m_MultiOutputEstimator.fit\u001b[0;34m(self, X, y, sample_weight, **fit_params)\u001b[0m\n\u001b[1;32m    212\u001b[0m     \u001b[38;5;28;01mraise\u001b[39;00m \u001b[38;5;167;01mValueError\u001b[39;00m(\u001b[38;5;124m\"\u001b[39m\u001b[38;5;124mUnderlying estimator does not support sample weights.\u001b[39m\u001b[38;5;124m\"\u001b[39m)\n\u001b[1;32m    214\u001b[0m fit_params_validated \u001b[38;5;241m=\u001b[39m _check_fit_params(X, fit_params)\n\u001b[0;32m--> 216\u001b[0m \u001b[38;5;28mself\u001b[39m\u001b[38;5;241m.\u001b[39mestimators_ \u001b[38;5;241m=\u001b[39m \u001b[43mParallel\u001b[49m\u001b[43m(\u001b[49m\u001b[43mn_jobs\u001b[49m\u001b[38;5;241;43m=\u001b[39;49m\u001b[38;5;28;43mself\u001b[39;49m\u001b[38;5;241;43m.\u001b[39;49m\u001b[43mn_jobs\u001b[49m\u001b[43m)\u001b[49m\u001b[43m(\u001b[49m\n\u001b[1;32m    217\u001b[0m \u001b[43m    \u001b[49m\u001b[43mdelayed\u001b[49m\u001b[43m(\u001b[49m\u001b[43m_fit_estimator\u001b[49m\u001b[43m)\u001b[49m\u001b[43m(\u001b[49m\n\u001b[1;32m    218\u001b[0m \u001b[43m        \u001b[49m\u001b[38;5;28;43mself\u001b[39;49m\u001b[38;5;241;43m.\u001b[39;49m\u001b[43mestimator\u001b[49m\u001b[43m,\u001b[49m\u001b[43m \u001b[49m\u001b[43mX\u001b[49m\u001b[43m,\u001b[49m\u001b[43m \u001b[49m\u001b[43my\u001b[49m\u001b[43m[\u001b[49m\u001b[43m:\u001b[49m\u001b[43m,\u001b[49m\u001b[43m \u001b[49m\u001b[43mi\u001b[49m\u001b[43m]\u001b[49m\u001b[43m,\u001b[49m\u001b[43m \u001b[49m\u001b[43msample_weight\u001b[49m\u001b[43m,\u001b[49m\u001b[43m \u001b[49m\u001b[38;5;241;43m*\u001b[39;49m\u001b[38;5;241;43m*\u001b[39;49m\u001b[43mfit_params_validated\u001b[49m\n\u001b[1;32m    219\u001b[0m \u001b[43m    \u001b[49m\u001b[43m)\u001b[49m\n\u001b[1;32m    220\u001b[0m \u001b[43m    \u001b[49m\u001b[38;5;28;43;01mfor\u001b[39;49;00m\u001b[43m \u001b[49m\u001b[43mi\u001b[49m\u001b[43m \u001b[49m\u001b[38;5;129;43;01min\u001b[39;49;00m\u001b[43m \u001b[49m\u001b[38;5;28;43mrange\u001b[39;49m\u001b[43m(\u001b[49m\u001b[43my\u001b[49m\u001b[38;5;241;43m.\u001b[39;49m\u001b[43mshape\u001b[49m\u001b[43m[\u001b[49m\u001b[38;5;241;43m1\u001b[39;49m\u001b[43m]\u001b[49m\u001b[43m)\u001b[49m\n\u001b[1;32m    221\u001b[0m \u001b[43m\u001b[49m\u001b[43m)\u001b[49m\n\u001b[1;32m    223\u001b[0m \u001b[38;5;28;01mif\u001b[39;00m \u001b[38;5;28mhasattr\u001b[39m(\u001b[38;5;28mself\u001b[39m\u001b[38;5;241m.\u001b[39mestimators_[\u001b[38;5;241m0\u001b[39m], \u001b[38;5;124m\"\u001b[39m\u001b[38;5;124mn_features_in_\u001b[39m\u001b[38;5;124m\"\u001b[39m):\n\u001b[1;32m    224\u001b[0m     \u001b[38;5;28mself\u001b[39m\u001b[38;5;241m.\u001b[39mn_features_in_ \u001b[38;5;241m=\u001b[39m \u001b[38;5;28mself\u001b[39m\u001b[38;5;241m.\u001b[39mestimators_[\u001b[38;5;241m0\u001b[39m]\u001b[38;5;241m.\u001b[39mn_features_in_\n",
      "File \u001b[0;32m~/anaconda3/envs/torch_env/lib/python3.11/site-packages/sklearn/utils/parallel.py:63\u001b[0m, in \u001b[0;36mParallel.__call__\u001b[0;34m(self, iterable)\u001b[0m\n\u001b[1;32m     58\u001b[0m config \u001b[38;5;241m=\u001b[39m get_config()\n\u001b[1;32m     59\u001b[0m iterable_with_config \u001b[38;5;241m=\u001b[39m (\n\u001b[1;32m     60\u001b[0m     (_with_config(delayed_func, config), args, kwargs)\n\u001b[1;32m     61\u001b[0m     \u001b[38;5;28;01mfor\u001b[39;00m delayed_func, args, kwargs \u001b[38;5;129;01min\u001b[39;00m iterable\n\u001b[1;32m     62\u001b[0m )\n\u001b[0;32m---> 63\u001b[0m \u001b[38;5;28;01mreturn\u001b[39;00m \u001b[38;5;28;43msuper\u001b[39;49m\u001b[43m(\u001b[49m\u001b[43m)\u001b[49m\u001b[38;5;241;43m.\u001b[39;49m\u001b[38;5;21;43m__call__\u001b[39;49m\u001b[43m(\u001b[49m\u001b[43miterable_with_config\u001b[49m\u001b[43m)\u001b[49m\n",
      "File \u001b[0;32m~/anaconda3/envs/torch_env/lib/python3.11/site-packages/joblib/parallel.py:1098\u001b[0m, in \u001b[0;36mParallel.__call__\u001b[0;34m(self, iterable)\u001b[0m\n\u001b[1;32m   1095\u001b[0m     \u001b[38;5;28mself\u001b[39m\u001b[38;5;241m.\u001b[39m_iterating \u001b[38;5;241m=\u001b[39m \u001b[38;5;28;01mFalse\u001b[39;00m\n\u001b[1;32m   1097\u001b[0m \u001b[38;5;28;01mwith\u001b[39;00m \u001b[38;5;28mself\u001b[39m\u001b[38;5;241m.\u001b[39m_backend\u001b[38;5;241m.\u001b[39mretrieval_context():\n\u001b[0;32m-> 1098\u001b[0m     \u001b[38;5;28;43mself\u001b[39;49m\u001b[38;5;241;43m.\u001b[39;49m\u001b[43mretrieve\u001b[49m\u001b[43m(\u001b[49m\u001b[43m)\u001b[49m\n\u001b[1;32m   1099\u001b[0m \u001b[38;5;66;03m# Make sure that we get a last message telling us we are done\u001b[39;00m\n\u001b[1;32m   1100\u001b[0m elapsed_time \u001b[38;5;241m=\u001b[39m time\u001b[38;5;241m.\u001b[39mtime() \u001b[38;5;241m-\u001b[39m \u001b[38;5;28mself\u001b[39m\u001b[38;5;241m.\u001b[39m_start_time\n",
      "File \u001b[0;32m~/anaconda3/envs/torch_env/lib/python3.11/site-packages/joblib/parallel.py:975\u001b[0m, in \u001b[0;36mParallel.retrieve\u001b[0;34m(self)\u001b[0m\n\u001b[1;32m    973\u001b[0m \u001b[38;5;28;01mtry\u001b[39;00m:\n\u001b[1;32m    974\u001b[0m     \u001b[38;5;28;01mif\u001b[39;00m \u001b[38;5;28mgetattr\u001b[39m(\u001b[38;5;28mself\u001b[39m\u001b[38;5;241m.\u001b[39m_backend, \u001b[38;5;124m'\u001b[39m\u001b[38;5;124msupports_timeout\u001b[39m\u001b[38;5;124m'\u001b[39m, \u001b[38;5;28;01mFalse\u001b[39;00m):\n\u001b[0;32m--> 975\u001b[0m         \u001b[38;5;28mself\u001b[39m\u001b[38;5;241m.\u001b[39m_output\u001b[38;5;241m.\u001b[39mextend(\u001b[43mjob\u001b[49m\u001b[38;5;241;43m.\u001b[39;49m\u001b[43mget\u001b[49m\u001b[43m(\u001b[49m\u001b[43mtimeout\u001b[49m\u001b[38;5;241;43m=\u001b[39;49m\u001b[38;5;28;43mself\u001b[39;49m\u001b[38;5;241;43m.\u001b[39;49m\u001b[43mtimeout\u001b[49m\u001b[43m)\u001b[49m)\n\u001b[1;32m    976\u001b[0m     \u001b[38;5;28;01melse\u001b[39;00m:\n\u001b[1;32m    977\u001b[0m         \u001b[38;5;28mself\u001b[39m\u001b[38;5;241m.\u001b[39m_output\u001b[38;5;241m.\u001b[39mextend(job\u001b[38;5;241m.\u001b[39mget())\n",
      "File \u001b[0;32m~/anaconda3/envs/torch_env/lib/python3.11/site-packages/joblib/_parallel_backends.py:567\u001b[0m, in \u001b[0;36mLokyBackend.wrap_future_result\u001b[0;34m(future, timeout)\u001b[0m\n\u001b[1;32m    564\u001b[0m \u001b[38;5;250m\u001b[39m\u001b[38;5;124;03m\"\"\"Wrapper for Future.result to implement the same behaviour as\u001b[39;00m\n\u001b[1;32m    565\u001b[0m \u001b[38;5;124;03mAsyncResults.get from multiprocessing.\"\"\"\u001b[39;00m\n\u001b[1;32m    566\u001b[0m \u001b[38;5;28;01mtry\u001b[39;00m:\n\u001b[0;32m--> 567\u001b[0m     \u001b[38;5;28;01mreturn\u001b[39;00m \u001b[43mfuture\u001b[49m\u001b[38;5;241;43m.\u001b[39;49m\u001b[43mresult\u001b[49m\u001b[43m(\u001b[49m\u001b[43mtimeout\u001b[49m\u001b[38;5;241;43m=\u001b[39;49m\u001b[43mtimeout\u001b[49m\u001b[43m)\u001b[49m\n\u001b[1;32m    568\u001b[0m \u001b[38;5;28;01mexcept\u001b[39;00m CfTimeoutError \u001b[38;5;28;01mas\u001b[39;00m e:\n\u001b[1;32m    569\u001b[0m     \u001b[38;5;28;01mraise\u001b[39;00m \u001b[38;5;167;01mTimeoutError\u001b[39;00m \u001b[38;5;28;01mfrom\u001b[39;00m \u001b[38;5;21;01me\u001b[39;00m\n",
      "File \u001b[0;32m~/anaconda3/envs/torch_env/lib/python3.11/concurrent/futures/_base.py:451\u001b[0m, in \u001b[0;36mFuture.result\u001b[0;34m(self, timeout)\u001b[0m\n\u001b[1;32m    448\u001b[0m \u001b[38;5;28;01melif\u001b[39;00m \u001b[38;5;28mself\u001b[39m\u001b[38;5;241m.\u001b[39m_state \u001b[38;5;241m==\u001b[39m FINISHED:\n\u001b[1;32m    449\u001b[0m     \u001b[38;5;28;01mreturn\u001b[39;00m \u001b[38;5;28mself\u001b[39m\u001b[38;5;241m.\u001b[39m__get_result()\n\u001b[0;32m--> 451\u001b[0m \u001b[38;5;28;43mself\u001b[39;49m\u001b[38;5;241;43m.\u001b[39;49m\u001b[43m_condition\u001b[49m\u001b[38;5;241;43m.\u001b[39;49m\u001b[43mwait\u001b[49m\u001b[43m(\u001b[49m\u001b[43mtimeout\u001b[49m\u001b[43m)\u001b[49m\n\u001b[1;32m    453\u001b[0m \u001b[38;5;28;01mif\u001b[39;00m \u001b[38;5;28mself\u001b[39m\u001b[38;5;241m.\u001b[39m_state \u001b[38;5;129;01min\u001b[39;00m [CANCELLED, CANCELLED_AND_NOTIFIED]:\n\u001b[1;32m    454\u001b[0m     \u001b[38;5;28;01mraise\u001b[39;00m CancelledError()\n",
      "File \u001b[0;32m~/anaconda3/envs/torch_env/lib/python3.11/threading.py:320\u001b[0m, in \u001b[0;36mCondition.wait\u001b[0;34m(self, timeout)\u001b[0m\n\u001b[1;32m    318\u001b[0m \u001b[38;5;28;01mtry\u001b[39;00m:    \u001b[38;5;66;03m# restore state no matter what (e.g., KeyboardInterrupt)\u001b[39;00m\n\u001b[1;32m    319\u001b[0m     \u001b[38;5;28;01mif\u001b[39;00m timeout \u001b[38;5;129;01mis\u001b[39;00m \u001b[38;5;28;01mNone\u001b[39;00m:\n\u001b[0;32m--> 320\u001b[0m         \u001b[43mwaiter\u001b[49m\u001b[38;5;241;43m.\u001b[39;49m\u001b[43macquire\u001b[49m\u001b[43m(\u001b[49m\u001b[43m)\u001b[49m\n\u001b[1;32m    321\u001b[0m         gotit \u001b[38;5;241m=\u001b[39m \u001b[38;5;28;01mTrue\u001b[39;00m\n\u001b[1;32m    322\u001b[0m     \u001b[38;5;28;01melse\u001b[39;00m:\n",
      "\u001b[0;31mKeyboardInterrupt\u001b[0m: "
     ]
    }
   ],
   "source": [
    "# y_predict_a, y_test_a = bm.var_predict_svr(cn_delay_1, test_ratio=0.2)\n",
    "# y_predict_d, y_test_d = bm.var_predict_svr(cn_delay_2, test_ratio=0.2)\n",
    "y_predict_a, y_test_a = bm.var_predict_svr(us_delay_1, test_ratio=0.2)\n",
    "y_predict_d, y_test_d = bm.var_predict_svr(us_delay_2, test_ratio=0.2)\n",
    "np.savez(\"tmp_svr.npz\", y_predict_a=y_predict_a, y_test_a=y_test_a,\n",
    "         y_predict_d=y_predict_d, y_test_d=y_test_d)"
   ]
  },
  {
   "cell_type": "code",
   "execution_count": null,
   "metadata": {},
   "outputs": [],
   "source": [
    "# y_test_a = y_test_a[:-36]\n",
    "time = [2, 5, 11]\n",
    "out_len = 12\n",
    "var_a_mae = []\n",
    "var_a_rmse = []\n",
    "var_a_mape = []\n",
    "var_d_mae = []\n",
    "var_d_rmse = []\n",
    "var_d_mape = []\n",
    "\n",
    "for i in time:\n",
    "    shift = i+1\n",
    "    num_sample = y_test_a.shape[-1]\n",
    "    a, b, c = bm.test_error(\n",
    "        y_predict_a[:, :, i], y_test_a[:, shift:num_sample-(out_len-shift)])\n",
    "    # y_predict_a: [T, N]  y_test_a: [T, N], shift `i+1` slots\n",
    "    var_a_mae.append(round(a, 3))\n",
    "    var_a_rmse.append(round(b, 3))\n",
    "    var_a_mape.append(round(c, 3))\n",
    "    a, b, c = bm.test_error(\n",
    "        y_predict_d[:, :, i], y_test_d[:, shift:num_sample-(out_len-shift)])\n",
    "    # y_predict_a: [T, N]  y_test_a: [T, N], shift `i+1` slots\n",
    "    var_d_mae.append(round(a, 3))\n",
    "    var_d_rmse.append(round(b, 3))\n",
    "    var_d_mape.append(round(c, 3))\n",
    "\n",
    "for i, x in enumerate(zip(var_a_mae, var_a_rmse, var_a_mape)):\n",
    "    print(f\"Error of SVM in {(time[i]+1)}-step arrival: {x}\")\n",
    "\n",
    "for i, x in enumerate(zip(var_d_mae, var_d_rmse, var_d_mape)):\n",
    "    print(f\"Error of SVM in {(time[i]+1)}-step departure: {x}\")"
   ]
  }
 ],
 "metadata": {
  "kernelspec": {
   "display_name": "Python 3 (ipykernel)",
   "language": "python",
   "name": "python3"
  },
  "language_info": {
   "codemirror_mode": {
    "name": "ipython",
    "version": 3
   },
   "file_extension": ".py",
   "mimetype": "text/x-python",
   "name": "python",
   "nbconvert_exporter": "python",
   "pygments_lexer": "ipython3",
   "version": "3.11.4"
  }
 },
 "nbformat": 4,
 "nbformat_minor": 2
}
